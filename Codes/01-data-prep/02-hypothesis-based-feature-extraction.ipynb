{
 "cells": [
  {
   "cell_type": "markdown",
   "metadata": {},
   "source": [
    "# Hypothesis based feature extraction\n",
    "\n",
    "Aim is to derive features based on hypotheses surrounding nature of SPAM and HAM messages.\n",
    "\n",
    "Leads to a lower feature space and easier time for algorithms"
   ]
  },
  {
   "cell_type": "code",
   "execution_count": 1,
   "metadata": {
    "collapsed": true
   },
   "outputs": [],
   "source": [
    "import re\n",
    "import pandas as pd\n",
    "import numpy as np"
   ]
  },
  {
   "cell_type": "code",
   "execution_count": 2,
   "metadata": {
    "collapsed": true
   },
   "outputs": [],
   "source": [
    "def cleanstr(x):\n",
    "    \n",
    "    \"\"\"Function to clean strings and convert to lowercase\"\"\"    \n",
    "    return x.decode('unicode_escape').encode('ascii','ignore').lower()\n",
    "\n",
    "\n",
    "def match_with_list(arr, wordlist):\n",
    "    \n",
    "    \"\"\"Returns an array of length 2 containing presence and counts of word/phrase in that list\"\"\"\n",
    "    cnt = sum([1 for spamword in wordlist if spamword in arr])\n",
    "    presence = np.where(cnt ==0, 0, 1)\n",
    "    \n",
    "    return cnt, presence\n",
    "\n",
    "\n",
    "def match_with_regex(arr, regex):\n",
    "    \n",
    "    \"\"\"Returns an array of length 2 containing presence and counts of regex matches\"\"\"\n",
    "    cnt = len(re.findall(regex,arr))\n",
    "    presence = np.where(cnt ==0, 0, 1)\n",
    "    \n",
    "    return cnt, presence"
   ]
  },
  {
   "cell_type": "code",
   "execution_count": 3,
   "metadata": {
    "collapsed": false
   },
   "outputs": [],
   "source": [
    "smscols = ['spamflag','text']\n",
    "sms = pd.read_csv(\"../../data/SMSSpamCollection\", sep='\\t', header= None, names = smscols)\n",
    "\n",
    "#cleaning data\n",
    "sms['cleantext'] = sms.text.apply(cleanstr)"
   ]
  },
  {
   "cell_type": "code",
   "execution_count": 4,
   "metadata": {
    "collapsed": false
   },
   "outputs": [
    {
     "data": {
      "text/html": [
       "<div>\n",
       "<table border=\"1\" class=\"dataframe\">\n",
       "  <thead>\n",
       "    <tr style=\"text-align: right;\">\n",
       "      <th></th>\n",
       "      <th>spamflag</th>\n",
       "      <th>text</th>\n",
       "      <th>cleantext</th>\n",
       "    </tr>\n",
       "  </thead>\n",
       "  <tbody>\n",
       "    <tr>\n",
       "      <th>0</th>\n",
       "      <td>ham</td>\n",
       "      <td>Go until jurong point, crazy.. Available only ...</td>\n",
       "      <td>go until jurong point, crazy.. available only ...</td>\n",
       "    </tr>\n",
       "    <tr>\n",
       "      <th>1</th>\n",
       "      <td>ham</td>\n",
       "      <td>Ok lar... Joking wif u oni...</td>\n",
       "      <td>ok lar... joking wif u oni...</td>\n",
       "    </tr>\n",
       "    <tr>\n",
       "      <th>2</th>\n",
       "      <td>spam</td>\n",
       "      <td>Free entry in 2 a wkly comp to win FA Cup fina...</td>\n",
       "      <td>free entry in 2 a wkly comp to win fa cup fina...</td>\n",
       "    </tr>\n",
       "    <tr>\n",
       "      <th>3</th>\n",
       "      <td>ham</td>\n",
       "      <td>U dun say so early hor... U c already then say...</td>\n",
       "      <td>u dun say so early hor... u c already then say...</td>\n",
       "    </tr>\n",
       "    <tr>\n",
       "      <th>4</th>\n",
       "      <td>ham</td>\n",
       "      <td>Nah I don't think he goes to usf, he lives aro...</td>\n",
       "      <td>nah i don't think he goes to usf, he lives aro...</td>\n",
       "    </tr>\n",
       "  </tbody>\n",
       "</table>\n",
       "</div>"
      ],
      "text/plain": [
       "  spamflag                                               text  \\\n",
       "0      ham  Go until jurong point, crazy.. Available only ...   \n",
       "1      ham                      Ok lar... Joking wif u oni...   \n",
       "2     spam  Free entry in 2 a wkly comp to win FA Cup fina...   \n",
       "3      ham  U dun say so early hor... U c already then say...   \n",
       "4      ham  Nah I don't think he goes to usf, he lives aro...   \n",
       "\n",
       "                                           cleantext  \n",
       "0  go until jurong point, crazy.. available only ...  \n",
       "1                      ok lar... joking wif u oni...  \n",
       "2  free entry in 2 a wkly comp to win fa cup fina...  \n",
       "3  u dun say so early hor... u c already then say...  \n",
       "4  nah i don't think he goes to usf, he lives aro...  "
      ]
     },
     "execution_count": 4,
     "metadata": {},
     "output_type": "execute_result"
    }
   ],
   "source": [
    "sms.head()"
   ]
  },
  {
   "cell_type": "markdown",
   "metadata": {},
   "source": [
    "#### Message Length"
   ]
  },
  {
   "cell_type": "code",
   "execution_count": 5,
   "metadata": {
    "collapsed": false
   },
   "outputs": [],
   "source": [
    "sms['message_len'] = sms.text.apply(len)"
   ]
  },
  {
   "cell_type": "markdown",
   "metadata": {},
   "source": [
    "#### Spam phrase dictionary\n",
    "\n",
    "https://emailmarketing.comm100.com/email-marketing-ebook/spam-words.aspx\n",
    "\n",
    "This dictionary primarily contains phrases. We'll use a separate dictionary for spam words."
   ]
  },
  {
   "cell_type": "code",
   "execution_count": 6,
   "metadata": {
    "collapsed": false
   },
   "outputs": [],
   "source": [
    "spamdict = pd.read_csv('../../data/spamdict.csv',squeeze=True,names=None, header=None)\n",
    "spamdict = spamdict.apply(cleanstr).tolist()"
   ]
  },
  {
   "cell_type": "code",
   "execution_count": 7,
   "metadata": {
    "collapsed": false
   },
   "outputs": [],
   "source": [
    "sms['phrase_count'] = sms.cleantext.apply(lambda s: match_with_list(s, spamdict)[0])\n",
    "sms['phrase_flag'] = sms.cleantext.apply(lambda s: match_with_list(s, spamdict)[1])"
   ]
  },
  {
   "cell_type": "markdown",
   "metadata": {},
   "source": [
    "#### Spam word dictionary"
   ]
  },
  {
   "cell_type": "code",
   "execution_count": 8,
   "metadata": {
    "collapsed": true
   },
   "outputs": [],
   "source": [
    "spamwords = pd.read_csv('../../data/spamwords.csv',squeeze=True,names=None, header=None)\n",
    "spamwords = spamwords.apply(cleanstr).tolist()"
   ]
  },
  {
   "cell_type": "code",
   "execution_count": 9,
   "metadata": {
    "collapsed": false
   },
   "outputs": [],
   "source": [
    "sms['spamword_count']= sms.cleantext.apply(lambda s: match_with_list(s, spamwords)[0])\n",
    "sms['spamword_flag']= sms.cleantext.apply(lambda s: match_with_list(s, spamwords)[1])"
   ]
  },
  {
   "cell_type": "markdown",
   "metadata": {},
   "source": [
    "#### Messaging Abbreviations\n",
    "\n",
    "http://www.smart-words.org/abbreviations/text.html"
   ]
  },
  {
   "cell_type": "code",
   "execution_count": 11,
   "metadata": {
    "collapsed": false
   },
   "outputs": [],
   "source": [
    "abbdict = pd.read_csv('../../data/abb2dict.csv',squeeze=True,names=None, header=None)\n",
    "abbdict = abbdict.apply(lambda x: cleanstr(str(x))).tolist()"
   ]
  },
  {
   "cell_type": "code",
   "execution_count": 12,
   "metadata": {
    "collapsed": false
   },
   "outputs": [],
   "source": [
    "sms['abb_count']=sms.cleantext.apply(lambda s: match_with_list(s, abbdict)[0])\n",
    "sms['abb_flag']=sms.cleantext.apply(lambda s: match_with_list(s, abbdict)[1])"
   ]
  },
  {
   "cell_type": "markdown",
   "metadata": {},
   "source": [
    "#### Alternate word forms\n",
    "\n",
    "wer for where, dis for this, u for you, etc."
   ]
  },
  {
   "cell_type": "code",
   "execution_count": 13,
   "metadata": {
    "collapsed": true
   },
   "outputs": [],
   "source": [
    "lingodict = pd.read_csv('../../data/lingo.csv',squeeze=True,names=None, header=None)\n",
    "lingodict = lingodict.apply(lambda x: cleanstr(str(x))).tolist()"
   ]
  },
  {
   "cell_type": "code",
   "execution_count": 14,
   "metadata": {
    "collapsed": false
   },
   "outputs": [],
   "source": [
    "sms['lingo_count']=sms.cleantext.apply(lambda s: match_with_list(s, lingodict)[0])\n",
    "sms['lingo_flag']=sms.cleantext.apply(lambda s: match_with_list(s, lingodict)[1])"
   ]
  },
  {
   "cell_type": "markdown",
   "metadata": {},
   "source": [
    "#### XXX+word"
   ]
  },
  {
   "cell_type": "code",
   "execution_count": 16,
   "metadata": {
    "collapsed": false
   },
   "outputs": [],
   "source": [
    "sms['xxx_count'] = sms.cleantext.apply(lambda s: match_with_regex(s, 'xx+\\w+')[0])\n",
    "sms['xxx_flag'] = sms.cleantext.apply(lambda s: match_with_regex(s, 'xx+\\w+')[1])"
   ]
  },
  {
   "cell_type": "markdown",
   "metadata": {},
   "source": [
    "#### Currency or money "
   ]
  },
  {
   "cell_type": "code",
   "execution_count": 18,
   "metadata": {
    "collapsed": false
   },
   "outputs": [
    {
     "name": "stdout",
     "output_type": "stream",
     "text": [
      "['\\xa312304040', '$12345', '$ 1234']\n"
     ]
    }
   ],
   "source": [
    "# Testing \n",
    "print re.findall('[£$][ ]?\\d+','£12304040 $12345 $ 1234')"
   ]
  },
  {
   "cell_type": "code",
   "execution_count": 19,
   "metadata": {
    "collapsed": false
   },
   "outputs": [],
   "source": [
    "sms['currency_count'] = sms.text.apply(lambda s: match_with_regex(s, '[£$][ ]?\\d+')[0])\n",
    "sms['currency_flag'] = sms.text.apply(lambda s: match_with_regex(s, '[£$][ ]?\\d+')[1])"
   ]
  },
  {
   "cell_type": "markdown",
   "metadata": {},
   "source": [
    "### Capital letters\n"
   ]
  },
  {
   "cell_type": "code",
   "execution_count": 20,
   "metadata": {
    "collapsed": false
   },
   "outputs": [],
   "source": [
    "sms['caps_count'] = sms.text.apply(lambda s: match_with_regex(s, '[A-Z]')[0])\n",
    "sms['caps_flag'] = sms.text.apply(lambda s: match_with_regex(s, '[A-Z]')[1])\n",
    "\n",
    "sms['running_caps'] = sms.text.apply(lambda x: max([len(caps) for caps in re.findall('[A-Z]*',x)]))"
   ]
  },
  {
   "cell_type": "markdown",
   "metadata": {},
   "source": [
    "#### Long numbers\n",
    "\n",
    "Phone numbers, account numbers\n",
    "\n",
    "Tagging all numbers atleast 6 digits long"
   ]
  },
  {
   "cell_type": "code",
   "execution_count": 21,
   "metadata": {
    "collapsed": false
   },
   "outputs": [],
   "source": [
    "sms['longnums_count'] = sms.text.apply(lambda s: match_with_regex(s, '\\d{5}\\d+')[0])\n",
    "sms['longnums_flag'] = sms.text.apply(lambda s: match_with_regex(s, '\\d{5}\\d+')[1])"
   ]
  },
  {
   "cell_type": "markdown",
   "metadata": {},
   "source": [
    "#### Special Characters\n",
    "\n",
    "1) \"!\" marks"
   ]
  },
  {
   "cell_type": "code",
   "execution_count": 22,
   "metadata": {
    "collapsed": false
   },
   "outputs": [],
   "source": [
    "sms['exclmark_count'] = sms.text.apply(lambda s: match_with_regex(s, '[!]')[0])\n",
    "sms['exclmark_flag'] = sms.text.apply(lambda s: match_with_regex(s, '[!]')[1])\n",
    "\n",
    "sms['runningexcl_len'] = sms.text.apply(lambda x: max([len(marks) for marks in re.findall('[!]*',x)]))"
   ]
  },
  {
   "cell_type": "markdown",
   "metadata": {},
   "source": [
    "2) %"
   ]
  },
  {
   "cell_type": "code",
   "execution_count": 23,
   "metadata": {
    "collapsed": false
   },
   "outputs": [],
   "source": [
    "sms['perc_count'] = sms.text.apply(lambda s: match_with_regex(s, '%')[0])\n",
    "sms['perc_flag'] = sms.text.apply(lambda s: match_with_regex(s, '%')[1])"
   ]
  },
  {
   "cell_type": "markdown",
   "metadata": {},
   "source": [
    "3) periods"
   ]
  },
  {
   "cell_type": "code",
   "execution_count": 24,
   "metadata": {
    "collapsed": false
   },
   "outputs": [],
   "source": [
    "sms['period_count'] = sms.text.apply(lambda s: match_with_regex(s, '[.]')[0])\n",
    "sms['period_flag'] = sms.text.apply(lambda s: match_with_regex(s, '[.]')[1])\n",
    "\n",
    "sms['runningperiods_len'] = sms.text.apply(lambda x: max([len(marks) for marks in re.findall('[.]*',x)]))"
   ]
  },
  {
   "cell_type": "markdown",
   "metadata": {},
   "source": [
    "#### Smileys"
   ]
  },
  {
   "cell_type": "code",
   "execution_count": 26,
   "metadata": {
    "collapsed": false
   },
   "outputs": [],
   "source": [
    "smileys = [':-?[)]',':-?[D]',':-?[O]',':-?[(]',':-[*]',';-?[)]']\n",
    "smileys_regex = '|'.join(smileys)"
   ]
  },
  {
   "cell_type": "code",
   "execution_count": 27,
   "metadata": {
    "collapsed": false
   },
   "outputs": [],
   "source": [
    "sms['smiley_count'] = sms.text.apply(lambda s: match_with_regex(s, smileys_regex)[0])\n",
    "sms['smiley_flag'] = sms.text.apply(lambda s: match_with_regex(s, smileys_regex)[1])"
   ]
  },
  {
   "cell_type": "markdown",
   "metadata": {},
   "source": [
    "#### Websites and emails addresses"
   ]
  },
  {
   "cell_type": "code",
   "execution_count": 28,
   "metadata": {
    "collapsed": false
   },
   "outputs": [],
   "source": [
    "sms['website_count'] = sms.text.apply(lambda s: match_with_regex(s, \"w?\\.?\\w+\\.com\")[0])\n",
    "sms['website_flag'] = sms.text.apply(lambda s: match_with_regex(s, \"w?\\.?\\w+\\.com\")[1])"
   ]
  },
  {
   "cell_type": "code",
   "execution_count": 29,
   "metadata": {
    "collapsed": false
   },
   "outputs": [],
   "source": [
    "sms['email_count'] = sms.text.apply(lambda s: match_with_regex(s, \"\\w+[@]\\w+\\.com\")[0])\n",
    "sms['email_flag'] = sms.text.apply(lambda s: match_with_regex(s, \"\\w+[@]\\w+\\.com\")[1])"
   ]
  },
  {
   "cell_type": "markdown",
   "metadata": {},
   "source": [
    "#### Combinations"
   ]
  },
  {
   "cell_type": "code",
   "execution_count": 31,
   "metadata": {
    "collapsed": false
   },
   "outputs": [],
   "source": [
    "sms['tot_splchars'] = sms[[\"perc_count\",\"exclmark_count\",\"period_count\"]].apply(sum, axis = 1)\n",
    "\n",
    "sms['tot_spam_indicators'] = sms[[\"phrase_count\", \"spamword_count\",\n",
    "                                  \"currency_count\", \"caps_count\"]].apply(sum, axis = 1)\n",
    "\n",
    "sms['tot_ham_indicators'] = sms[[\"lingo_count\",\"abb_count\",\"smiley_count\"]].apply(sum, axis = 1)\n"
   ]
  },
  {
   "cell_type": "markdown",
   "metadata": {},
   "source": [
    "## Exporting final data"
   ]
  },
  {
   "cell_type": "code",
   "execution_count": 33,
   "metadata": {
    "collapsed": false
   },
   "outputs": [
    {
     "data": {
      "text/plain": [
       "(5572, 39)"
      ]
     },
     "execution_count": 33,
     "metadata": {},
     "output_type": "execute_result"
    }
   ],
   "source": [
    "sms.shape"
   ]
  },
  {
   "cell_type": "code",
   "execution_count": 32,
   "metadata": {
    "collapsed": false
   },
   "outputs": [],
   "source": [
    "sms.to_csv(\"../../data/final_hypo_data.csv\",index = False)"
   ]
  },
  {
   "cell_type": "code",
   "execution_count": 5,
   "metadata": {
    "collapsed": false
   },
   "outputs": [],
   "source": [
    "# Overall X and Y vectors\n",
    "X = sms.drop(['flag','text','cleantext'],axis=1)\n",
    "Y = pd.Series(np.where(sms.flag=='spam',1,0))\n",
    "\n",
    "# Testing and training split\n",
    "Xtr, Xte, Ytr, Yte = train_test_split(X ,Y , test_size = 0.3, random_state = 123, stratify = Y)"
   ]
  },
  {
   "cell_type": "markdown",
   "metadata": {},
   "source": [
    "# Initial Modeling trial"
   ]
  },
  {
   "cell_type": "code",
   "execution_count": 4,
   "metadata": {
    "collapsed": false
   },
   "outputs": [
    {
     "name": "stderr",
     "output_type": "stream",
     "text": [
      "C:\\Users\\Anirudh Narayanan\\Anaconda2\\lib\\site-packages\\sklearn\\cross_validation.py:44: DeprecationWarning: This module was deprecated in version 0.18 in favor of the model_selection module into which all the refactored classes and functions are moved. Also note that the interface of the new CV iterators are different from that of this module. This module will be removed in 0.20.\n",
      "  \"This module will be removed in 0.20.\", DeprecationWarning)\n",
      "C:\\Users\\Anirudh Narayanan\\Anaconda2\\lib\\site-packages\\sklearn\\grid_search.py:43: DeprecationWarning: This module was deprecated in version 0.18 in favor of the model_selection module into which all the refactored classes and functions are moved. This module will be removed in 0.20.\n",
      "  DeprecationWarning)\n"
     ]
    }
   ],
   "source": [
    "from sklearn.metrics import confusion_matrix,classification_report,roc_curve,auc\n",
    "from sklearn.linear_model import LogisticRegression\n",
    "from sklearn.tree import DecisionTreeClassifier\n",
    "from sklearn.neighbors import KNeighborsClassifier\n",
    "from sklearn.naive_bayes import MultinomialNB\n",
    "from sklearn.preprocessing import StandardScaler\n",
    "\n",
    "from sklearn.grid_search import GridSearchCV\n",
    "from sklearn.cross_validation import train_test_split, cross_val_score\n",
    "\n",
    "from IPython.display import display, HTML\n",
    "import matplotlib.pyplot as plt\n",
    "%matplotlib inline"
   ]
  },
  {
   "cell_type": "markdown",
   "metadata": {},
   "source": [
    "## Model evaluation function"
   ]
  },
  {
   "cell_type": "code",
   "execution_count": 6,
   "metadata": {
    "collapsed": true
   },
   "outputs": [],
   "source": [
    "def evaluate(model, Xtest, Ytest,X, Y, cv = 5):\n",
    "    \n",
    "    pred = pd.DataFrame(model.predict(Xtest), index = Ytest.index)\n",
    "    pred_prob = pd.DataFrame(model.predict_proba(Xtest) , index = Ytest.index)[1]\n",
    "    \n",
    "    pred = pd.concat([pred, pred_prob, Ytest], axis = 1)\n",
    "    pred.columns = ['Predicted','Predicted_prob','Actual']\n",
    "    \n",
    "    display(HTML('<br><b>Holdout Accuracy</b>'))\n",
    "    print '{}%'.format(100 - 100*round(sum(pred.Predicted != pred.Actual)/float(len(pred)),4))\n",
    "\n",
    "    display(HTML('<br><b>Confusion Matrix</b>'))\n",
    "    display(pd.crosstab(pred.Predicted, pred.Actual))    \n",
    "\n",
    "    display(HTML('<br><b>Classification Report</b>'))\n",
    "    print(classification_report(pred.Actual,pred.Predicted))\n",
    "    \n",
    "    cvs = cross_val_score(model,X,Y,cv=cv)\n",
    "    \n",
    "    display(HTML('<br><b>{}-fold Cross-validation performance</b>'.format(cv)))\n",
    "    display(HTML('Mean: <b>{}</b> <br> Std Dev: <b>{}</b>'.format(round(cvs.mean(),3),round(cvs.std(),3))))\n",
    "    \n",
    "    # ROC\n",
    "    roc = roc_curve(pred.Actual,pred.Predicted_prob)\n",
    "    fpr,tpr = roc[0],roc[1]\n",
    "\n",
    "    model_auc = auc(fpr,tpr)\n",
    "\n",
    "    display(HTML('<br><b>ROC-related outputs</b>'))\n",
    "\n",
    "    print 'AUC: {}'.format(round(model_auc,4))\n",
    "\n",
    "    plt.plot(fpr, tpr, color='darkorange',lw=2)\n",
    "    plt.plot([0, 1], [0, 1], color='navy', lw=2, linestyle='--')\n",
    "    plt.title('ROC Curve')\n",
    "    plt.xlabel('False Positive Rate')\n",
    "    plt.ylabel('True Positive Rate')"
   ]
  },
  {
   "cell_type": "code",
   "execution_count": 7,
   "metadata": {
    "collapsed": false
   },
   "outputs": [
    {
     "data": {
      "text/html": [
       "<br><b>Holdout Accuracy</b>"
      ],
      "text/plain": [
       "<IPython.core.display.HTML object>"
      ]
     },
     "metadata": {},
     "output_type": "display_data"
    },
    {
     "name": "stdout",
     "output_type": "stream",
     "text": [
      "97.07%\n"
     ]
    },
    {
     "data": {
      "text/html": [
       "<br><b>Confusion Matrix</b>"
      ],
      "text/plain": [
       "<IPython.core.display.HTML object>"
      ]
     },
     "metadata": {},
     "output_type": "display_data"
    },
    {
     "data": {
      "text/html": [
       "<div>\n",
       "<table border=\"1\" class=\"dataframe\">\n",
       "  <thead>\n",
       "    <tr style=\"text-align: right;\">\n",
       "      <th>Actual</th>\n",
       "      <th>0</th>\n",
       "      <th>1</th>\n",
       "    </tr>\n",
       "    <tr>\n",
       "      <th>Predicted</th>\n",
       "      <th></th>\n",
       "      <th></th>\n",
       "    </tr>\n",
       "  </thead>\n",
       "  <tbody>\n",
       "    <tr>\n",
       "      <th>0</th>\n",
       "      <td>1428</td>\n",
       "      <td>29</td>\n",
       "    </tr>\n",
       "    <tr>\n",
       "      <th>1</th>\n",
       "      <td>20</td>\n",
       "      <td>195</td>\n",
       "    </tr>\n",
       "  </tbody>\n",
       "</table>\n",
       "</div>"
      ],
      "text/plain": [
       "Actual        0    1\n",
       "Predicted           \n",
       "0          1428   29\n",
       "1            20  195"
      ]
     },
     "metadata": {},
     "output_type": "display_data"
    },
    {
     "data": {
      "text/html": [
       "<br><b>Classification Report</b>"
      ],
      "text/plain": [
       "<IPython.core.display.HTML object>"
      ]
     },
     "metadata": {},
     "output_type": "display_data"
    },
    {
     "name": "stdout",
     "output_type": "stream",
     "text": [
      "             precision    recall  f1-score   support\n",
      "\n",
      "          0       0.98      0.99      0.98      1448\n",
      "          1       0.91      0.87      0.89       224\n",
      "\n",
      "avg / total       0.97      0.97      0.97      1672\n",
      "\n"
     ]
    },
    {
     "data": {
      "text/html": [
       "<br><b>5-fold Cross-validation performance</b>"
      ],
      "text/plain": [
       "<IPython.core.display.HTML object>"
      ]
     },
     "metadata": {},
     "output_type": "display_data"
    },
    {
     "data": {
      "text/html": [
       "Mean: <b>0.972</b> <br> Std Dev: <b>0.004</b>"
      ],
      "text/plain": [
       "<IPython.core.display.HTML object>"
      ]
     },
     "metadata": {},
     "output_type": "display_data"
    },
    {
     "data": {
      "text/html": [
       "<br><b>ROC-related outputs</b>"
      ],
      "text/plain": [
       "<IPython.core.display.HTML object>"
      ]
     },
     "metadata": {},
     "output_type": "display_data"
    },
    {
     "name": "stdout",
     "output_type": "stream",
     "text": [
      "AUC: 0.9607\n"
     ]
    },
    {
     "data": {
      "image/png": "[encoded data removed]",
      "text/plain": [
       "<matplotlib.figure.Figure at 0xb5198d0>"
      ]
     },
     "metadata": {},
     "output_type": "display_data"
    }
   ],
   "source": [
    "tree = DecisionTreeClassifier(min_samples_leaf=5, min_samples_split=35).fit(Xtr,Ytr)\n",
    "\n",
    "evaluate(tree, Xte, Yte, X, Y)"
   ]
  },
  {
   "cell_type": "code",
   "execution_count": 33,
   "metadata": {
    "collapsed": false
   },
   "outputs": [
    {
     "data": {
      "text/plain": [
       "(26L,)"
      ]
     },
     "execution_count": 33,
     "metadata": {},
     "output_type": "execute_result"
    }
   ],
   "source": [
    "tree.feature_importances_.shape"
   ]
  },
  {
   "cell_type": "code",
   "execution_count": 36,
   "metadata": {
    "collapsed": false
   },
   "outputs": [
    {
     "data": {
      "text/plain": [
       "26"
      ]
     },
     "execution_count": 36,
     "metadata": {},
     "output_type": "execute_result"
    }
   ],
   "source": [
    "len(sms.columns.tolist()[3:])"
   ]
  },
  {
   "cell_type": "code",
   "execution_count": 38,
   "metadata": {
    "collapsed": false
   },
   "outputs": [
    {
     "data": {
      "text/html": [
       "<div>\n",
       "<table border=\"1\" class=\"dataframe\">\n",
       "  <thead>\n",
       "    <tr style=\"text-align: right;\">\n",
       "      <th></th>\n",
       "      <th>0</th>\n",
       "      <th>1</th>\n",
       "      <th>2</th>\n",
       "      <th>3</th>\n",
       "      <th>4</th>\n",
       "      <th>5</th>\n",
       "      <th>6</th>\n",
       "      <th>7</th>\n",
       "      <th>8</th>\n",
       "      <th>9</th>\n",
       "      <th>...</th>\n",
       "      <th>16</th>\n",
       "      <th>17</th>\n",
       "      <th>18</th>\n",
       "      <th>19</th>\n",
       "      <th>20</th>\n",
       "      <th>21</th>\n",
       "      <th>22</th>\n",
       "      <th>23</th>\n",
       "      <th>24</th>\n",
       "      <th>25</th>\n",
       "    </tr>\n",
       "  </thead>\n",
       "  <tbody>\n",
       "    <tr>\n",
       "      <th>0</th>\n",
       "      <td>message_len</td>\n",
       "      <td>phrasecount</td>\n",
       "      <td>spam_wc</td>\n",
       "      <td>abbcount</td>\n",
       "      <td>lingocount</td>\n",
       "      <td>XXX_count</td>\n",
       "      <td>currency_flag</td>\n",
       "      <td>total_caps</td>\n",
       "      <td>running_caps</td>\n",
       "      <td>long_nums</td>\n",
       "      <td>...</td>\n",
       "      <td>max_special_len</td>\n",
       "      <td>smiley_counts</td>\n",
       "      <td>website_counts</td>\n",
       "      <td>email_counts</td>\n",
       "      <td>buy_call_counts</td>\n",
       "      <td>call_me</td>\n",
       "      <td>meet_online</td>\n",
       "      <td>dear_user</td>\n",
       "      <td>FREE_count</td>\n",
       "      <td>winner_count</td>\n",
       "    </tr>\n",
       "    <tr>\n",
       "      <th>1</th>\n",
       "      <td>0.0439657872033</td>\n",
       "      <td>0.0</td>\n",
       "      <td>0.0681480492111</td>\n",
       "      <td>0.0</td>\n",
       "      <td>0.0</td>\n",
       "      <td>0.0</td>\n",
       "      <td>0.0262920046598</td>\n",
       "      <td>0.0136439240545</td>\n",
       "      <td>0.174659149568</td>\n",
       "      <td>0.594165301794</td>\n",
       "      <td>...</td>\n",
       "      <td>0.00451102034147</td>\n",
       "      <td>0.0</td>\n",
       "      <td>0.00386147075391</td>\n",
       "      <td>0.0</td>\n",
       "      <td>0.0</td>\n",
       "      <td>0.0</td>\n",
       "      <td>0.0100013602951</td>\n",
       "      <td>0.014314710364</td>\n",
       "      <td>0.0</td>\n",
       "      <td>0.0</td>\n",
       "    </tr>\n",
       "  </tbody>\n",
       "</table>\n",
       "<p>2 rows × 26 columns</p>\n",
       "</div>"
      ],
      "text/plain": [
       "                0            1                2         3           4   \\\n",
       "0      message_len  phrasecount          spam_wc  abbcount  lingocount   \n",
       "1  0.0439657872033          0.0  0.0681480492111       0.0         0.0   \n",
       "\n",
       "          5                6                7               8   \\\n",
       "0  XXX_count    currency_flag       total_caps    running_caps   \n",
       "1        0.0  0.0262920046598  0.0136439240545  0.174659149568   \n",
       "\n",
       "               9       ...                     16             17  \\\n",
       "0       long_nums      ...        max_special_len  smiley_counts   \n",
       "1  0.594165301794      ...       0.00451102034147            0.0   \n",
       "\n",
       "                 18            19               20       21               22  \\\n",
       "0    website_counts  email_counts  buy_call_counts  call_me      meet_online   \n",
       "1  0.00386147075391           0.0              0.0      0.0  0.0100013602951   \n",
       "\n",
       "               23          24            25  \n",
       "0       dear_user  FREE_count  winner_count  \n",
       "1  0.014314710364         0.0           0.0  \n",
       "\n",
       "[2 rows x 26 columns]"
      ]
     },
     "execution_count": 38,
     "metadata": {},
     "output_type": "execute_result"
    }
   ],
   "source": [
    "pd.DataFrame(np.r_[np.array(sms.columns.tolist()[3:])[None,:],tree.feature_importances_[None,:]])"
   ]
  },
  {
   "cell_type": "code",
   "execution_count": 68,
   "metadata": {
    "collapsed": false,
    "scrolled": false
   },
   "outputs": [
    {
     "data": {
      "text/html": [
       "<div>\n",
       "<table border=\"1\" class=\"dataframe\">\n",
       "  <thead>\n",
       "    <tr style=\"text-align: right;\">\n",
       "      <th></th>\n",
       "      <th>gg</th>\n",
       "    </tr>\n",
       "  </thead>\n",
       "  <tbody>\n",
       "    <tr>\n",
       "      <th>long_nums</th>\n",
       "      <td>0.594165</td>\n",
       "    </tr>\n",
       "    <tr>\n",
       "      <th>running_caps</th>\n",
       "      <td>0.174659</td>\n",
       "    </tr>\n",
       "    <tr>\n",
       "      <th>spam_wc</th>\n",
       "      <td>0.068148</td>\n",
       "    </tr>\n",
       "    <tr>\n",
       "      <th>message_len</th>\n",
       "      <td>0.043966</td>\n",
       "    </tr>\n",
       "    <tr>\n",
       "      <th>max_periods_len</th>\n",
       "      <td>0.029235</td>\n",
       "    </tr>\n",
       "  </tbody>\n",
       "</table>\n",
       "</div>"
      ],
      "text/plain": [
       "                       gg\n",
       "long_nums        0.594165\n",
       "running_caps     0.174659\n",
       "spam_wc          0.068148\n",
       "message_len      0.043966\n",
       "max_periods_len  0.029235"
      ]
     },
     "execution_count": 68,
     "metadata": {},
     "output_type": "execute_result"
    }
   ],
   "source": [
    "feat_imp = pd.DataFrame(tree.feature_importances_,columns=[\"gg\"], index =sms.columns.tolist()[3:]).\\\n",
    "            sort_values(by = \"gg\", ascending = False)\n",
    "    \n",
    "    \n",
    "feat_imp = feat_imp.head(5)\n",
    "feat_imp"
   ]
  },
  {
   "cell_type": "code",
   "execution_count": 76,
   "metadata": {
    "collapsed": false,
    "scrolled": false
   },
   "outputs": [
    {
     "data": {
      "image/png": "[encoded data removed]",
      "text/plain": [
       "<matplotlib.figure.Figure at 0xea3aa20>"
      ]
     },
     "metadata": {},
     "output_type": "display_data"
    },
    {
     "data": {
      "image/png": "[encoded data removed]",
      "text/plain": [
       "<matplotlib.figure.Figure at 0xddb2358>"
      ]
     },
     "metadata": {},
     "output_type": "display_data"
    },
    {
     "data": {
      "image/png": "[encoded data removed]",
      "text/plain": [
       "<matplotlib.figure.Figure at 0xda0c780>"
      ]
     },
     "metadata": {},
     "output_type": "display_data"
    },
    {
     "data": {
      "image/png": "[encoded data removed]",
      "text/plain": [
       "<matplotlib.figure.Figure at 0xce32f28>"
      ]
     },
     "metadata": {},
     "output_type": "display_data"
    },
    {
     "data": {
      "image/png": "[encoded data removed]",
      "text/plain": [
       "<matplotlib.figure.Figure at 0xb6d5550>"
      ]
     },
     "metadata": {},
     "output_type": "display_data"
    },
    {
     "data": {
      "image/png": "[encoded data removed]",
      "text/plain": [
       "<matplotlib.figure.Figure at 0xda02f60>"
      ]
     },
     "metadata": {},
     "output_type": "display_data"
    },
    {
     "data": {
      "image/png": "[encoded data removed]",
      "text/plain": [
       "<matplotlib.figure.Figure at 0xdffaa58>"
      ]
     },
     "metadata": {},
     "output_type": "display_data"
    },
    {
     "data": {
      "image/png": "[encoded data removed]",
      "text/plain": [
       "<matplotlib.figure.Figure at 0xd7c58d0>"
      ]
     },
     "metadata": {},
     "output_type": "display_data"
    },
    {
     "data": {
      "image/png": "[encoded data removed]",
      "text/plain": [
       "<matplotlib.figure.Figure at 0xe4b7e10>"
      ]
     },
     "metadata": {},
     "output_type": "display_data"
    },
    {
     "data": {
      "image/png": "[encoded data removed]",
      "text/plain": [
       "<matplotlib.figure.Figure at 0xea37cc0>"
      ]
     },
     "metadata": {},
     "output_type": "display_data"
    }
   ],
   "source": [
    "colors = {'spam':'red','ham':'green'}\n",
    "for i in range(5):\n",
    "    for j in range(i+1,5):\n",
    "        plt.scatter(x=sms[feat_imp.index[i]],y=sms[feat_imp.index[j]], c=sms.flag.apply(lambda x:colors[x]), s=40)\n",
    "        plt.xlabel(feat_imp.index[i])\n",
    "        plt.ylabel(feat_imp.index[j])\n",
    "        plt.show()\n",
    "                    "
   ]
  },
  {
   "cell_type": "code",
   "execution_count": null,
   "metadata": {
    "collapsed": true
   },
   "outputs": [],
   "source": [
    "for var "
   ]
  },
  {
   "cell_type": "code",
   "execution_count": 63,
   "metadata": {
    "collapsed": false
   },
   "outputs": [
    {
     "data": {
      "image/png": "[encoded data removed]",
      "text/plain": [
       "<matplotlib.figure.Figure at 0xe4d9438>"
      ]
     },
     "metadata": {},
     "output_type": "display_data"
    }
   ],
   "source": [
    "colors = {'spam':'red','ham':'green'}\n",
    "plt.scatter(x=sms.message_len,y=sms.max_special_len, c=sms.flag.apply(lambda x:colors[x]))\n",
    "plt.show()"
   ]
  },
  {
   "cell_type": "markdown",
   "metadata": {},
   "source": [
    "## Logistic"
   ]
  },
  {
   "cell_type": "code",
   "execution_count": 53,
   "metadata": {
    "collapsed": true
   },
   "outputs": [],
   "source": [
    "scaler = StandardScaler().fit(X)"
   ]
  },
  {
   "cell_type": "code",
   "execution_count": 112,
   "metadata": {
    "collapsed": false
   },
   "outputs": [
    {
     "name": "stdout",
     "output_type": "stream",
     "text": [
      "Fitting 10 folds for each of 10 candidates, totalling 100 fits\n"
     ]
    },
    {
     "name": "stderr",
     "output_type": "stream",
     "text": [
      "[Parallel(n_jobs=-1)]: Done  42 tasks      | elapsed:    5.0s\n",
      "[Parallel(n_jobs=-1)]: Done 100 out of 100 | elapsed:    6.0s finished\n"
     ]
    }
   ],
   "source": [
    "log_clf = LogisticRegression()\n",
    "log_grids = GridSearchCV(log_clf,\n",
    "                         param_grid={'penalty':['l1','l2'],\n",
    "                                 'C':[100,10,1,0.1,0.01]},\n",
    "                         cv=10,\n",
    "                        verbose= 1,\n",
    "                        n_jobs = -1,\n",
    "                         scoring = 'f1').fit(scaler.transform(Xtr),Ytr)"
   ]
  },
  {
   "cell_type": "code",
   "execution_count": 113,
   "metadata": {
    "collapsed": false
   },
   "outputs": [
    {
     "data": {
      "text/plain": [
       "{'C': 1, 'penalty': 'l1'}"
      ]
     },
     "execution_count": 113,
     "metadata": {},
     "output_type": "execute_result"
    }
   ],
   "source": [
    "log_grids.best_params_"
   ]
  },
  {
   "cell_type": "code",
   "execution_count": 114,
   "metadata": {
    "collapsed": false,
    "scrolled": false
   },
   "outputs": [
    {
     "data": {
      "text/html": [
       "<br><b>Holdout Accuracy</b>"
      ],
      "text/plain": [
       "<IPython.core.display.HTML object>"
      ]
     },
     "metadata": {},
     "output_type": "display_data"
    },
    {
     "name": "stdout",
     "output_type": "stream",
     "text": [
      "96.59%\n"
     ]
    },
    {
     "data": {
      "text/html": [
       "<br><b>Confusion Matrix</b>"
      ],
      "text/plain": [
       "<IPython.core.display.HTML object>"
      ]
     },
     "metadata": {},
     "output_type": "display_data"
    },
    {
     "data": {
      "text/html": [
       "<div>\n",
       "<table border=\"1\" class=\"dataframe\">\n",
       "  <thead>\n",
       "    <tr style=\"text-align: right;\">\n",
       "      <th>Actual</th>\n",
       "      <th>0</th>\n",
       "      <th>1</th>\n",
       "    </tr>\n",
       "    <tr>\n",
       "      <th>Predicted</th>\n",
       "      <th></th>\n",
       "      <th></th>\n",
       "    </tr>\n",
       "  </thead>\n",
       "  <tbody>\n",
       "    <tr>\n",
       "      <th>0</th>\n",
       "      <td>1434</td>\n",
       "      <td>43</td>\n",
       "    </tr>\n",
       "    <tr>\n",
       "      <th>1</th>\n",
       "      <td>14</td>\n",
       "      <td>181</td>\n",
       "    </tr>\n",
       "  </tbody>\n",
       "</table>\n",
       "</div>"
      ],
      "text/plain": [
       "Actual        0    1\n",
       "Predicted           \n",
       "0          1434   43\n",
       "1            14  181"
      ]
     },
     "metadata": {},
     "output_type": "display_data"
    },
    {
     "data": {
      "text/html": [
       "<br><b>Classification Report</b>"
      ],
      "text/plain": [
       "<IPython.core.display.HTML object>"
      ]
     },
     "metadata": {},
     "output_type": "display_data"
    },
    {
     "name": "stdout",
     "output_type": "stream",
     "text": [
      "             precision    recall  f1-score   support\n",
      "\n",
      "          0       0.97      0.99      0.98      1448\n",
      "          1       0.93      0.81      0.86       224\n",
      "\n",
      "avg / total       0.97      0.97      0.96      1672\n",
      "\n"
     ]
    },
    {
     "data": {
      "text/html": [
       "<br><b>5-fold Cross-validation performance</b>"
      ],
      "text/plain": [
       "<IPython.core.display.HTML object>"
      ]
     },
     "metadata": {},
     "output_type": "display_data"
    },
    {
     "data": {
      "text/html": [
       "Mean: <b>0.966</b> <br> Std Dev: <b>0.005</b>"
      ],
      "text/plain": [
       "<IPython.core.display.HTML object>"
      ]
     },
     "metadata": {},
     "output_type": "display_data"
    },
    {
     "data": {
      "text/html": [
       "<br><b>ROC-related outputs</b>"
      ],
      "text/plain": [
       "<IPython.core.display.HTML object>"
      ]
     },
     "metadata": {},
     "output_type": "display_data"
    },
    {
     "name": "stdout",
     "output_type": "stream",
     "text": [
      "AUC: 0.9769\n"
     ]
    },
    {
     "data": {
      "image/png": "[encoded data removed]",
      "text/plain": [
       "<matplotlib.figure.Figure at 0xb162860>"
      ]
     },
     "metadata": {},
     "output_type": "display_data"
    }
   ],
   "source": [
    "lreg = log_grids.best_estimator_.fit(scaler.transform(Xtr),Ytr)\n",
    "\n",
    "evaluate(lreg, scaler.transform(Xte),Yte, scaler.transform(X), Y)"
   ]
  },
  {
   "cell_type": "markdown",
   "metadata": {},
   "source": [
    "## Naive Bayes"
   ]
  },
  {
   "cell_type": "code",
   "execution_count": 66,
   "metadata": {
    "collapsed": true
   },
   "outputs": [],
   "source": [
    "from mlxtend.feature_selection import SequentialFeatureSelector as SFS"
   ]
  },
  {
   "cell_type": "code",
   "execution_count": 104,
   "metadata": {
    "collapsed": false,
    "scrolled": true
   },
   "outputs": [
    {
     "name": "stderr",
     "output_type": "stream",
     "text": [
      "Features: 26/26"
     ]
    }
   ],
   "source": [
    "nb_clf = MultinomialNB()\n",
    "\n",
    "nb_sfs = SFS(nb_clf,\n",
    "            n_jobs =-1,\n",
    "            k_features = X.shape[1],\n",
    "            cv = 5,\n",
    "            scoring = 'f1',\n",
    "             forward = True,\n",
    "             floating = True,\n",
    "             print_progress = True\n",
    "            ).fit(Xtr.as_matrix(),Ytr.as_matrix())"
   ]
  },
  {
   "cell_type": "code",
   "execution_count": 107,
   "metadata": {
    "collapsed": false
   },
   "outputs": [
    {
     "name": "stdout",
     "output_type": "stream",
     "text": [
      "   avg_score                                          cv_scores  \\\n",
      "20  0.865074  [0.821052631579, 0.875621890547, 0.87804878048...   \n",
      "21  0.864151  [0.821052631579, 0.875621890547, 0.87804878048...   \n",
      "22  0.863815  [0.831578947368, 0.851485148515, 0.87684729064...   \n",
      "17  0.863214  [0.817204301075, 0.874371859296, 0.88118811881...   \n",
      "23  0.862681  [0.833333333333, 0.852941176471, 0.87254901960...   \n",
      "18  0.862291  [0.817204301075, 0.874371859296, 0.88118811881...   \n",
      "19  0.862283  [0.817204301075, 0.874371859296, 0.88118811881...   \n",
      "16  0.858444  [0.810810810811, 0.862944162437, 0.88118811881...   \n",
      "15  0.851125  [0.79781420765, 0.860103626943, 0.878787878788...   \n",
      "13  0.830872  [0.782122905028, 0.832432432432, 0.875, 0.8268...   \n",
      "12  0.830872  [0.782122905028, 0.832432432432, 0.875, 0.8268...   \n",
      "11  0.830872  [0.782122905028, 0.832432432432, 0.875, 0.8268...   \n",
      "10  0.830872  [0.782122905028, 0.832432432432, 0.875, 0.8268...   \n",
      "9   0.830872  [0.782122905028, 0.832432432432, 0.875, 0.8268...   \n",
      "8   0.830872  [0.782122905028, 0.832432432432, 0.875, 0.8268...   \n",
      "7   0.830872  [0.782122905028, 0.832432432432, 0.875, 0.8268...   \n",
      "6   0.830872  [0.782122905028, 0.832432432432, 0.875, 0.8268...   \n",
      "5   0.830872  [0.782122905028, 0.832432432432, 0.875, 0.8268...   \n",
      "14  0.830822  [0.782122905028, 0.838709677419, 0.875, 0.8268...   \n",
      "24  0.827109  [0.82, 0.824644549763, 0.83257918552, 0.821782...   \n",
      "4   0.821764  [0.768361581921, 0.819672131148, 0.86910994764...   \n",
      "25  0.795105  [0.784688995215, 0.789237668161, 0.78969957081...   \n",
      "3    0.79189  [0.739884393064, 0.779661016949, 0.84946236559...   \n",
      "26  0.782332  [0.783783783784, 0.777292576419, 0.76651982378...   \n",
      "2   0.713099  [0.687116564417, 0.734939759036, 0.71951219512...   \n",
      "1          0                          [0.0, 0.0, 0.0, 0.0, 0.0]   \n",
      "\n",
      "                                          feature_idx  \n",
      "20  (2, 3, 4, 5, 6, 8, 9, 10, 11, 12, 14, 15, 17, ...  \n",
      "21  (2, 3, 4, 5, 6, 8, 9, 10, 11, 12, 14, 15, 17, ...  \n",
      "22  (1, 2, 3, 4, 5, 6, 9, 10, 11, 12, 14, 15, 16, ...  \n",
      "17  (0, 2, 4, 5, 6, 9, 10, 14, 16, 17, 18, 19, 21,...  \n",
      "23  (1, 2, 3, 4, 5, 6, 8, 9, 10, 11, 12, 14, 15, 1...  \n",
      "18  (0, 2, 3, 4, 5, 6, 9, 10, 14, 16, 17, 18, 19, ...  \n",
      "19  (0, 2, 3, 4, 5, 6, 9, 10, 14, 16, 17, 18, 19, ...  \n",
      "16  (0, 2, 4, 5, 6, 9, 10, 14, 16, 17, 19, 21, 22,...  \n",
      "15  (0, 2, 4, 5, 6, 9, 10, 14, 16, 17, 19, 21, 22,...  \n",
      "13    (0, 3, 5, 6, 9, 10, 16, 17, 19, 21, 22, 24, 25)  \n",
      "12        (0, 3, 5, 6, 9, 10, 16, 17, 19, 21, 22, 24)  \n",
      "11            (0, 3, 5, 6, 9, 10, 16, 17, 19, 22, 24)  \n",
      "10                (0, 3, 5, 6, 9, 10, 16, 17, 22, 24)  \n",
      "9                     (0, 3, 5, 6, 9, 10, 16, 22, 24)  \n",
      "8                         (0, 3, 5, 6, 24, 9, 22, 10)  \n",
      "7                             (0, 3, 22, 6, 24, 9, 5)  \n",
      "6                                (0, 3, 6, 22, 24, 9)  \n",
      "5                                   (0, 9, 22, 6, 24)  \n",
      "14  (0, 3, 4, 5, 6, 9, 10, 16, 17, 19, 21, 22, 24,...  \n",
      "24  (0, 1, 2, 3, 4, 5, 6, 8, 9, 10, 11, 12, 14, 15...  \n",
      "4                                       (0, 9, 6, 24)  \n",
      "25  (0, 1, 2, 3, 4, 5, 6, 8, 9, 10, 11, 12, 13, 14...  \n",
      "3                                           (0, 9, 6)  \n",
      "26  (0, 1, 2, 3, 4, 5, 6, 7, 8, 9, 10, 11, 12, 13,...  \n",
      "2                                              (0, 9)  \n",
      "1                                                (0,)  \n",
      "Index([u'spam_wc', u'abbcount', u'lingocount', u'XXX_count', u'currency_flag',\n",
      "       u'running_caps', u'long_nums', u'perc_flag', u'count_!', u'max_!_len',\n",
      "       u'max_periods_len', u'special_counts', u'smiley_counts',\n",
      "       u'website_counts', u'buy_call_counts', u'call_me', u'meet_online',\n",
      "       u'dear_user', u'FREE_count', u'winner_count'],\n",
      "      dtype='object')\n"
     ]
    }
   ],
   "source": [
    "print pd.DataFrame(nb_sfs.subsets_).transpose().sort_values(by = \"avg_score\", ascending = False)\n",
    "\n",
    "best_feat = list(pd.DataFrame(nb_sfs.subsets_).transpose().sort_values(by = \"avg_score\", ascending = False).iloc[0,2])\n",
    "\n",
    "print Xtr.columns[best_feat]"
   ]
  },
  {
   "cell_type": "code",
   "execution_count": 108,
   "metadata": {
    "collapsed": false
   },
   "outputs": [
    {
     "data": {
      "text/html": [
       "<br><b>Holdout Accuracy</b>"
      ],
      "text/plain": [
       "<IPython.core.display.HTML object>"
      ]
     },
     "metadata": {},
     "output_type": "display_data"
    },
    {
     "name": "stdout",
     "output_type": "stream",
     "text": [
      "97.13%\n"
     ]
    },
    {
     "data": {
      "text/html": [
       "<br><b>Confusion Matrix</b>"
      ],
      "text/plain": [
       "<IPython.core.display.HTML object>"
      ]
     },
     "metadata": {},
     "output_type": "display_data"
    },
    {
     "data": {
      "text/html": [
       "<div>\n",
       "<table border=\"1\" class=\"dataframe\">\n",
       "  <thead>\n",
       "    <tr style=\"text-align: right;\">\n",
       "      <th>Actual</th>\n",
       "      <th>0</th>\n",
       "      <th>1</th>\n",
       "    </tr>\n",
       "    <tr>\n",
       "      <th>Predicted</th>\n",
       "      <th></th>\n",
       "      <th></th>\n",
       "    </tr>\n",
       "  </thead>\n",
       "  <tbody>\n",
       "    <tr>\n",
       "      <th>0</th>\n",
       "      <td>1437</td>\n",
       "      <td>37</td>\n",
       "    </tr>\n",
       "    <tr>\n",
       "      <th>1</th>\n",
       "      <td>11</td>\n",
       "      <td>187</td>\n",
       "    </tr>\n",
       "  </tbody>\n",
       "</table>\n",
       "</div>"
      ],
      "text/plain": [
       "Actual        0    1\n",
       "Predicted           \n",
       "0          1437   37\n",
       "1            11  187"
      ]
     },
     "metadata": {},
     "output_type": "display_data"
    },
    {
     "data": {
      "text/html": [
       "<br><b>Classification Report</b>"
      ],
      "text/plain": [
       "<IPython.core.display.HTML object>"
      ]
     },
     "metadata": {},
     "output_type": "display_data"
    },
    {
     "name": "stdout",
     "output_type": "stream",
     "text": [
      "             precision    recall  f1-score   support\n",
      "\n",
      "          0       0.97      0.99      0.98      1448\n",
      "          1       0.94      0.83      0.89       224\n",
      "\n",
      "avg / total       0.97      0.97      0.97      1672\n",
      "\n"
     ]
    },
    {
     "data": {
      "text/html": [
       "<br><b>5-fold Cross-validation performance</b>"
      ],
      "text/plain": [
       "<IPython.core.display.HTML object>"
      ]
     },
     "metadata": {},
     "output_type": "display_data"
    },
    {
     "data": {
      "text/html": [
       "Mean: <b>0.935</b> <br> Std Dev: <b>0.006</b>"
      ],
      "text/plain": [
       "<IPython.core.display.HTML object>"
      ]
     },
     "metadata": {},
     "output_type": "display_data"
    },
    {
     "data": {
      "text/html": [
       "<br><b>ROC-related outputs</b>"
      ],
      "text/plain": [
       "<IPython.core.display.HTML object>"
      ]
     },
     "metadata": {},
     "output_type": "display_data"
    },
    {
     "name": "stdout",
     "output_type": "stream",
     "text": [
      "AUC: 0.9572\n"
     ]
    },
    {
     "data": {
      "image/png": "[encoded data removed]",
      "text/plain": [
       "<matplotlib.figure.Figure at 0xb741c18>"
      ]
     },
     "metadata": {},
     "output_type": "display_data"
    }
   ],
   "source": [
    "nb = MultinomialNB().fit(Xtr.ix[:,best_feat].as_matrix(),Ytr.as_matrix())\n",
    "\n",
    "evaluate(nb, Xte.ix[:,best_feat], Yte, X, Y)"
   ]
  }
 ],
 "metadata": {
  "kernelspec": {
   "display_name": "Python 2",
   "language": "python",
   "name": "python2"
  },
  "language_info": {
   "codemirror_mode": {
    "name": "ipython",
    "version": 2
   },
   "file_extension": ".py",
   "mimetype": "text/x-python",
   "name": "python",
   "nbconvert_exporter": "python",
   "pygments_lexer": "ipython2",
   "version": "2.7.12"
  }
 },
 "nbformat": 4,
 "nbformat_minor": 0
}
